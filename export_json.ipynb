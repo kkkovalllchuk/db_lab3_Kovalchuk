{
 "cells": [
  {
   "cell_type": "code",
   "execution_count": 2,
   "metadata": {},
   "outputs": [],
   "source": [
    "import json\n",
    "import psycopg2\n",
    "username = 'postgres'\n",
    "password = 'postgres'\n",
    "database = 'KOVALCHUK__02'\n",
    "host = 'localhost'\n",
    "port = '5432'\n",
    "\n",
    "conn = psycopg2.connect(user=username, password=password,\n",
    "                        dbname=database, host=host, port=port)\n",
    "\n",
    "data = {}\n",
    "with conn:\n",
    "\n",
    "    cur = conn.cursor()\n",
    "\n",
    "    for table in ('main', 'date_ted', 'views_likes'):\n",
    "        cur.execute('SELECT * FROM ' + table)\n",
    "        rows = []\n",
    "        fields = [x[0] for x in cur.description]\n",
    "\n",
    "        for row in cur:\n",
    "            rows.append(dict(zip(fields, row)))\n",
    "\n",
    "        data[table] = rows\n",
    "\n",
    "    with open('result.json', 'w') as outf:\n",
    "        json.dump(data, outf, default=str)\n"
   ]
  }
 ],
 "metadata": {
  "kernelspec": {
   "display_name": "Python 3.8.5 64-bit",
   "language": "python",
   "name": "python3"
  },
  "language_info": {
   "codemirror_mode": {
    "name": "ipython",
    "version": 3
   },
   "file_extension": ".py",
   "mimetype": "text/x-python",
   "name": "python",
   "nbconvert_exporter": "python",
   "pygments_lexer": "ipython3",
   "version": "3.8.5"
  },
  "orig_nbformat": 4,
  "vscode": {
   "interpreter": {
    "hash": "fec0f209dd490a289f394c0c762328be77b4454d699732d27a536e3e32860e22"
   }
  }
 },
 "nbformat": 4,
 "nbformat_minor": 2
}
