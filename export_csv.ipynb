{
 "cells": [
  {
   "cell_type": "code",
   "execution_count": 1,
   "metadata": {},
   "outputs": [],
   "source": [
    "import csv\n",
    "import psycopg2\n",
    "\n",
    "username = 'postgres'\n",
    "password = 'postgres'\n",
    "database = 'KOVALCHUK__02'\n",
    "host = 'localhost'\n",
    "port = '5432'\n",
    "OUTPUT_FILE_T = 'export_file.csv'\n",
    "\n",
    "TABLES = [\n",
    "    'date_ted',\n",
    "    'main',\n",
    "    'views_likes'\n",
    "]\n",
    "\n",
    "conn = psycopg2.connect(user=username, password=password, dbname=database)\n",
    "\n",
    "with conn:\n",
    "    cur = conn.cursor()\n",
    "    with open(OUTPUT_FILE_T, 'w') as outfile:\n",
    "        for table_name in TABLES:\n",
    "            cur.execute('SELECT * FROM ' + table_name)\n",
    "            fields = [x[0] for x in cur.description]\n",
    "            writer = csv.writer(outfile)\n",
    "            writer.writerow(fields)\n",
    "            for row in cur:\n",
    "                writer.writerow([str(x) for x in row])\n"
   ]
  }
 ],
 "metadata": {
  "kernelspec": {
   "display_name": "Python 3.8.5 64-bit",
   "language": "python",
   "name": "python3"
  },
  "language_info": {
   "codemirror_mode": {
    "name": "ipython",
    "version": 3
   },
   "file_extension": ".py",
   "mimetype": "text/x-python",
   "name": "python",
   "nbconvert_exporter": "python",
   "pygments_lexer": "ipython3",
   "version": "3.8.5"
  },
  "orig_nbformat": 4,
  "vscode": {
   "interpreter": {
    "hash": "fec0f209dd490a289f394c0c762328be77b4454d699732d27a536e3e32860e22"
   }
  }
 },
 "nbformat": 4,
 "nbformat_minor": 2
}
